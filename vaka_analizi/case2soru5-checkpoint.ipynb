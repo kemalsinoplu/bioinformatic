{
 "cells": [
  {
   "cell_type": "code",
   "execution_count": 1,
   "id": "651d8cf9-af38-4601-975f-117a001bf68d",
   "metadata": {},
   "outputs": [],
   "source": [
    "import pandas as pd"
   ]
  },
  {
   "cell_type": "code",
   "execution_count": 2,
   "id": "d45cfb7e-5f19-45a5-9d75-6b75ee1dedfe",
   "metadata": {},
   "outputs": [],
   "source": [
    "entrez_df = pd.read_csv(\"EntrezID.csv\")"
   ]
  },
  {
   "cell_type": "code",
   "execution_count": 5,
   "id": "b6c94b40-bb84-4626-a4f5-a932840196f1",
   "metadata": {},
   "outputs": [],
   "source": [
    "entrez_ids = entrez_df['initial_alias'].tolist()"
   ]
  },
  {
   "cell_type": "code",
   "execution_count": 7,
   "id": "0e91676e-96b9-41e4-a908-7db634555de6",
   "metadata": {},
   "outputs": [],
   "source": [
    "import requests"
   ]
  },
  {
   "cell_type": "code",
   "execution_count": 8,
   "id": "5561db73-2c7c-41ac-84d0-2689427cc1da",
   "metadata": {},
   "outputs": [],
   "source": [
    "# KEGG API'sine Entrez ID'leri ile GET isteği gönderin\n",
    "def get_kegg_pathways(entrez_ids):\n",
    "    base_url = \"https://rest.kegg.jp/get/\"\n",
    "    pathways = {}\n",
    "\n",
    "    for gene in entrez_ids:\n",
    "        # KEGG API'den pathway bilgilerini çekmek\n",
    "        response = requests.get(f\"{base_url}{gene}/pathway\")\n",
    "        \n",
    "        if response.status_code == 200:\n",
    "            pathways[gene] = response.text\n",
    "        else:\n",
    "            pathways[gene] = \"No pathway found\"\n",
    "    \n",
    "    return pathways"
   ]
  },
  {
   "cell_type": "code",
   "execution_count": null,
   "id": "28ebaf83-a937-4b24-9fc6-becb5f04d5e9",
   "metadata": {},
   "outputs": [],
   "source": [
    "# Pathway bilgilerini çek\n",
    "pathway_data = get_kegg_pathways(entrez_ids)"
   ]
  },
  {
   "cell_type": "code",
   "execution_count": null,
   "id": "82505742-e90e-4067-83ea-a93db2fee588",
   "metadata": {},
   "outputs": [],
   "source": [
    "for gene, pathways in pathway_data.items():\n",
    "    print(f\"Gene: {gene}\")\n",
    "    print(pathways)"
   ]
  },
  {
   "cell_type": "code",
   "execution_count": null,
   "id": "467a5d65-29e1-42c4-b390-aba8848c77f7",
   "metadata": {},
   "outputs": [],
   "source": [
    "pathway_df = pd.DataFrame(list(pathway_data.items()), columns=['EntrezID', 'Pathways'])\n",
    "pathway_df.to_csv('case2soru5.csv', index=False)"
   ]
  }
 ],
 "metadata": {
  "kernelspec": {
   "display_name": "Python 3 (ipykernel)",
   "language": "python",
   "name": "python3"
  },
  "language_info": {
   "codemirror_mode": {
    "name": "ipython",
    "version": 3
   },
   "file_extension": ".py",
   "mimetype": "text/x-python",
   "name": "python",
   "nbconvert_exporter": "python",
   "pygments_lexer": "ipython3",
   "version": "3.12.4"
  }
 },
 "nbformat": 4,
 "nbformat_minor": 5
}
